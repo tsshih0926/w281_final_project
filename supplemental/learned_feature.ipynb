{
  "cells": [
    {
      "cell_type": "markdown",
      "source": [
        "### W281 Final Project Supplemental Notebook\n",
        "### Learned Features Approach to MAVOC Vehicle Classification\n",
        "\n",
        "This notebook tries a \"black box\" approach to classifying electro optical images of 10 vehicle classes from the MAVOC dataset. We first generate image embeddings using a pre-trained Resnet-152 model, and then use an autoML process on the learned embeddings to quickly fit and tune a number of mostly linear classifiers. We find that the ResNet-152 pre-trained embedding plus an ensemble of KNN and SVM classifiers outperforms our hand-engineered + single linear classifier approach as well as our basic CNN approach."
      ],
      "metadata": {
        "nteract": {
          "transient": {
            "deleting": false
          }
        }
      }
    },
    {
      "cell_type": "code",
      "source": [
        "import numpy as np\n",
        "import pandas as pd\n",
        "import pprint\n",
        "from eo_learned_features import get_eo_ndarray, get_embedding\n",
        "\n",
        "import autosklearn.classification\n",
        "from autosklearn.experimental.askl2 import AutoSklearn2Classifier\n",
        "import sklearn.model_selection\n",
        "from sklearn.metrics import accuracy_score, classification_report"
      ],
      "outputs": [],
      "execution_count": 1,
      "metadata": {
        "jupyter": {
          "source_hidden": false,
          "outputs_hidden": false
        },
        "nteract": {
          "transient": {
            "deleting": false
          }
        }
      }
    },
    {
      "cell_type": "markdown",
      "source": [
        "We first split the data into train and test (in the same way as in our main project notebook). We convert the train and test images into a giant feature vectors of shape (n_samples, height, width). Note, we omit the dev split as the autoML process we use toward the end splits part of the train dataset into validation for hyperparameter tuning."
      ],
      "metadata": {
        "nteract": {
          "transient": {
            "deleting": false
          }
        }
      }
    },
    {
      "cell_type": "code",
      "source": [
        "files = pd.read_csv('mavoc_partition_scheme.csv')\n",
        "files['eo_img'] = files['eo_img'].str[9:]\n",
        "\n",
        "train = files[files['partition'] == 'train']\n",
        "dev = files[files['partition'] == 'dev']\n",
        "test = files[files['partition'] == 'test']\n",
        "\n",
        "# Get the numpy array matrices of each partition\n",
        "train_features_arr, train_labels_arr = get_eo_ndarray(train)\n",
        "# dev_features_arr, dev_labels_arr = get_eo_ndarray(dev)\n",
        "test_features_arr, test_labels_arr = get_eo_ndarray(test)"
      ],
      "outputs": [
        {
          "output_type": "stream",
          "name": "stderr",
          "text": "100%|██████████| 10/10 [02:18<00:00, 13.86s/it]\n100%|██████████| 10/10 [00:16<00:00,  1.67s/it]\n"
        }
      ],
      "execution_count": 2,
      "metadata": {
        "jupyter": {
          "source_hidden": false,
          "outputs_hidden": false
        },
        "nteract": {
          "transient": {
            "deleting": false
          }
        }
      }
    },
    {
      "cell_type": "code",
      "source": [
        "print(f\"Train array: {train_features_arr.shape} Train labels:{train_labels_arr.shape}\")\n",
        "# print(f\"Dev array: {dev_features_arr.shape} Dev labels:{dev_labels_arr.shape}\")\n",
        "print(f\"Test array: {test_features_arr.shape} Test labels:{test_labels_arr.shape}\")"
      ],
      "outputs": [
        {
          "output_type": "stream",
          "name": "stdout",
          "text": "Train array: (4992, 32, 32) Train labels:(4992,)\nTest array: (624, 32, 32) Test labels:(624,)\n"
        }
      ],
      "execution_count": 11,
      "metadata": {
        "jupyter": {
          "source_hidden": false,
          "outputs_hidden": false
        },
        "nteract": {
          "transient": {
            "deleting": false
          }
        }
      }
    },
    {
      "cell_type": "markdown",
      "source": [
        "Convert the pixel features to a CNN-based embedding, using output of the last hidden layer from ResNet-152, which generates a single-dim vector of size 2048. The resulting feature vectors are then (n_samples, 2048)."
      ],
      "metadata": {
        "nteract": {
          "transient": {
            "deleting": false
          }
        }
      }
    },
    {
      "cell_type": "code",
      "source": [
        "# Grab the numpy array matrices of each partition\n",
        "train_learned_features = get_embedding(train_features_arr)\n",
        "# dev_learned_features = get_embedding(dev_features_arr)\n",
        "test_learned_features = get_embedding(test_features_arr)"
      ],
      "outputs": [
        {
          "output_type": "stream",
          "name": "stderr",
          "text": "100%|██████████| 4992/4992 [13:52<00:00,  6.00it/s]  \n100%|██████████| 624/624 [01:39<00:00,  6.27it/s]\n"
        }
      ],
      "execution_count": 3,
      "metadata": {
        "jupyter": {
          "source_hidden": false,
          "outputs_hidden": false
        },
        "nteract": {
          "transient": {
            "deleting": false
          }
        }
      }
    },
    {
      "cell_type": "code",
      "source": [
        "print(f\"Train embedding: {train_learned_features.shape}\")\n",
        "# print(f\"Dev embedding: {dev_learned_features.shape}\")\n",
        "print(f\"Test embedding: {test_learned_features.shape}\")"
      ],
      "outputs": [
        {
          "output_type": "stream",
          "name": "stdout",
          "text": "Train embedding: (4992, 2048)\nTest embedding: (624, 2048)\n"
        }
      ],
      "execution_count": 12,
      "metadata": {
        "jupyter": {
          "source_hidden": false,
          "outputs_hidden": false
        },
        "nteract": {
          "transient": {
            "deleting": false
          }
        }
      }
    },
    {
      "cell_type": "markdown",
      "source": [
        "We then use [auto-sklearn](https://automl.github.io/auto-sklearn/master/index.html) to fit and tune multiple classifiers with a 1-hour time cap. The final model is an ensemble of the top-performing models. The final modeling approach uses an ensemble of support vector machine and k-nearest neighbor to achive an overall accuracy of 0.90, almost 3 percentage points better than our non-linear CNN! The ensemble model also has difficulty predicting sedans in our test set, similar to the CNN."
      ],
      "metadata": {
        "nteract": {
          "transient": {
            "deleting": false
          }
        }
      }
    },
    {
      "cell_type": "code",
      "source": [
        "automl = autosklearn.classification.AutoSklearnClassifier(n_jobs=-1,memory_limit=None, seed=281)\n",
        "automl.fit(train_learned_features, train_labels_arr)"
      ],
      "outputs": [],
      "execution_count": null,
      "metadata": {
        "jupyter": {
          "source_hidden": false,
          "outputs_hidden": false
        },
        "nteract": {
          "transient": {
            "deleting": false
          }
        }
      }
    },
    {
      "cell_type": "code",
      "source": [
        "test_preds_arr = automl.predict(test_learned_features)\n",
        "\n",
        "class_names = ['sedan', 'suv', 'pickup truck', 'van','box truck', 'motorcycle', 'flatbed truck','bus' , 'pickup truck with trailer',\n",
        "'flatbed truck with trailer']\n",
        "\n",
        "print(classification_report(test_labels_arr, test_preds_arr, target_names=class_names))"
      ],
      "outputs": [
        {
          "output_type": "stream",
          "name": "stdout",
          "text": "                            precision    recall  f1-score   support\n\n                     sedan       0.59      0.63      0.61        63\n                       suv       0.71      0.85      0.77        62\n              pickup truck       0.92      0.89      0.90        62\n                       van       0.91      0.84      0.87        62\n                 box truck       1.00      1.00      1.00        62\n                motorcycle       1.00      0.85      0.92        62\n             flatbed truck       1.00      1.00      1.00        63\n                       bus       1.00      0.95      0.98        62\n pickup truck with trailer       1.00      1.00      1.00        63\nflatbed truck with trailer       0.95      0.97      0.96        63\n\n                  accuracy                           0.90       624\n                 macro avg       0.91      0.90      0.90       624\n              weighted avg       0.91      0.90      0.90       624\n\n"
        }
      ],
      "execution_count": 5,
      "metadata": {
        "jupyter": {
          "source_hidden": false,
          "outputs_hidden": false
        },
        "nteract": {
          "transient": {
            "deleting": false
          }
        }
      }
    },
    {
      "cell_type": "markdown",
      "source": [
        "SVM and k-nearest neighbors were the most performant single-model classifiers."
      ],
      "metadata": {
        "nteract": {
          "transient": {
            "deleting": false
          }
        }
      }
    },
    {
      "cell_type": "code",
      "source": [
        "print(automl.leaderboard())\n",
        "\n",
        "print(\"\\n========= Final ensemble model ==========\\n\\n\")\n",
        "pp = pprint.PrettyPrinter(indent=4)\n",
        "pp.pprint(automl.show_models())"
      ],
      "outputs": [
        {
          "output_type": "stream",
          "name": "stdout",
          "text": "          rank  ensemble_weight                 type      cost    duration\nmodel_id                                                                  \n93           1             0.02           libsvm_svc  0.132282   76.824723\n82           2             0.02           libsvm_svc  0.139563   55.465609\n128          3             0.02           libsvm_svc  0.140777   66.210677\n7            4             0.22  k_nearest_neighbors  0.144417    7.496868\n139          5             0.02           libsvm_svc  0.145024   78.565759\n97           6             0.02           libsvm_svc  0.147451   53.675237\n106          7             0.06           libsvm_svc  0.151092  121.528774\n34           8             0.02           libsvm_svc  0.157767   46.682972\n13           9             0.02           libsvm_svc  0.160194   26.277497\n74          10             0.02           libsvm_svc  0.165655   34.997453\n36          11             0.04           libsvm_svc  0.181432   24.600532\n108         12             0.02           libsvm_svc  0.182646   41.389446\n102         13             0.02           libsvm_svc  0.195995   37.967634\n100         14             0.02           libsvm_svc  0.199029   38.545076\n92          15             0.02           libsvm_svc  0.222694  776.046307\n119         16             0.10          extra_trees  0.237257   14.827329\n48          17             0.18                  lda  0.240291    8.056616\n37          18             0.16                  lda  0.242112   11.323883\n\n========= Final ensemble model ==========\n\n\n{   7: {   'balancing': Balancing(random_state=281, strategy='weighting'),\n           'classifier': <autosklearn.pipeline.components.classification.ClassifierChoice object at 0x7f778c4e4460>,\n           'cost': 0.14441747572815533,\n           'data_preprocessor': <autosklearn.pipeline.components.data_preprocessing.DataPreprocessorChoice object at 0x7f778d3d3fa0>,\n           'ensemble_weight': 0.22,\n           'feature_preprocessor': <autosklearn.pipeline.components.feature_preprocessing.FeaturePreprocessorChoice object at 0x7f779d22de50>,\n           'model_id': 7,\n           'rank': 4,\n           'sklearn_classifier': KNeighborsClassifier(n_neighbors=4, weights='distance')},\n    13: {   'balancing': Balancing(random_state=281),\n            'classifier': <autosklearn.pipeline.components.classification.ClassifierChoice object at 0x7f778764c9a0>,\n            'cost': 0.1601941747572816,\n            'data_preprocessor': <autosklearn.pipeline.components.data_preprocessing.DataPreprocessorChoice object at 0x7f778713d940>,\n            'ensemble_weight': 0.02,\n            'feature_preprocessor': <autosklearn.pipeline.components.feature_preprocessing.FeaturePreprocessorChoice object at 0x7f778764cf40>,\n            'model_id': 13,\n            'rank': 9,\n            'sklearn_classifier': SVC(C=1803.5581329545355, coef0=0.6141138805973136, degree=2,\n    gamma=7.991791699871623, kernel='poly', max_iter=-1.0, random_state=281,\n    tol=0.04161403886920211)},\n    34: {   'balancing': Balancing(random_state=281, strategy='weighting'),\n            'classifier': <autosklearn.pipeline.components.classification.ClassifierChoice object at 0x7f778551be20>,\n            'cost': 0.15776699029126218,\n            'data_preprocessor': <autosklearn.pipeline.components.data_preprocessing.DataPreprocessorChoice object at 0x7f7791b0ff70>,\n            'ensemble_weight': 0.02,\n            'feature_preprocessor': <autosklearn.pipeline.components.feature_preprocessing.FeaturePreprocessorChoice object at 0x7f77871aa6a0>,\n            'model_id': 34,\n            'rank': 8,\n            'sklearn_classifier': SVC(C=13933.25185174103, class_weight='balanced', coef0=-0.05166572891806276,\n    degree=2, gamma=0.7552016471651748, kernel='poly', max_iter=-1.0,\n    random_state=281, tol=0.00624586059099062)},\n    36: {   'balancing': Balancing(random_state=281, strategy='weighting'),\n            'classifier': <autosklearn.pipeline.components.classification.ClassifierChoice object at 0x7f778ccc14c0>,\n            'cost': 0.1814320388349514,\n            'data_preprocessor': <autosklearn.pipeline.components.data_preprocessing.DataPreprocessorChoice object at 0x7f7786a22790>,\n            'ensemble_weight': 0.04,\n            'feature_preprocessor': <autosklearn.pipeline.components.feature_preprocessing.FeaturePreprocessorChoice object at 0x7f778ccc1700>,\n            'model_id': 36,\n            'rank': 11,\n            'sklearn_classifier': SVC(C=79.51271483784518, class_weight='balanced', coef0=0.4248931359495398,\n    gamma=0.9055362733629917, kernel='poly', max_iter=-1.0, random_state=281,\n    tol=1.2688325844011413e-05)},\n    37: {   'balancing': Balancing(random_state=281, strategy='weighting'),\n            'classifier': <autosklearn.pipeline.components.classification.ClassifierChoice object at 0x7f7787185970>,\n            'cost': 0.24211165048543692,\n            'data_preprocessor': <autosklearn.pipeline.components.data_preprocessing.DataPreprocessorChoice object at 0x7f7791f48040>,\n            'ensemble_weight': 0.16,\n            'feature_preprocessor': <autosklearn.pipeline.components.feature_preprocessing.FeaturePreprocessorChoice object at 0x7f771bcfe640>,\n            'model_id': 37,\n            'rank': 18,\n            'sklearn_classifier': LinearDiscriminantAnalysis(tol=0.00010000000000000009)},\n    48: {   'balancing': Balancing(random_state=281, strategy='weighting'),\n            'classifier': <autosklearn.pipeline.components.classification.ClassifierChoice object at 0x7f77863ac130>,\n            'cost': 0.24029126213592233,\n            'data_preprocessor': <autosklearn.pipeline.components.data_preprocessing.DataPreprocessorChoice object at 0x7f7745082df0>,\n            'ensemble_weight': 0.18,\n            'feature_preprocessor': <autosklearn.pipeline.components.feature_preprocessing.FeaturePreprocessorChoice object at 0x7f778cbbb250>,\n            'model_id': 48,\n            'rank': 17,\n            'sklearn_classifier': LinearDiscriminantAnalysis(shrinkage='auto', solver='lsqr',\n                           tol=1.5069065327383586e-05)},\n    74: {   'balancing': Balancing(random_state=281),\n            'classifier': <autosklearn.pipeline.components.classification.ClassifierChoice object at 0x7f778d7c24f0>,\n            'cost': 0.16565533980582525,\n            'data_preprocessor': <autosklearn.pipeline.components.data_preprocessing.DataPreprocessorChoice object at 0x7f778cb67ca0>,\n            'ensemble_weight': 0.02,\n            'feature_preprocessor': <autosklearn.pipeline.components.feature_preprocessing.FeaturePreprocessorChoice object at 0x7f7787185220>,\n            'model_id': 74,\n            'rank': 10,\n            'sklearn_classifier': SVC(C=366.32595018400247, coef0=0.40389122076101724, degree=2,\n    gamma=0.02720794043605594, kernel='poly', max_iter=-1.0, random_state=281,\n    tol=0.0031422150552454604)},\n    82: {   'balancing': Balancing(random_state=281),\n            'classifier': <autosklearn.pipeline.components.classification.ClassifierChoice object at 0x7f7786555b20>,\n            'cost': 0.1395631067961165,\n            'data_preprocessor': <autosklearn.pipeline.components.data_preprocessing.DataPreprocessorChoice object at 0x7f778de69b20>,\n            'ensemble_weight': 0.02,\n            'feature_preprocessor': <autosklearn.pipeline.components.feature_preprocessing.FeaturePreprocessorChoice object at 0x7f7786555310>,\n            'model_id': 82,\n            'rank': 2,\n            'sklearn_classifier': SVC(C=10042.76938562796, coef0=0.6925097649844323, degree=2,\n    gamma=6.396246837309529, kernel='poly', max_iter=-1.0, random_state=281,\n    tol=0.004558924380796101)},\n    92: {   'balancing': Balancing(random_state=281, strategy='weighting'),\n            'classifier': <autosklearn.pipeline.components.classification.ClassifierChoice object at 0x7f77863a5bb0>,\n            'cost': 0.2226941747572816,\n            'data_preprocessor': <autosklearn.pipeline.components.data_preprocessing.DataPreprocessorChoice object at 0x7f779d1fd430>,\n            'ensemble_weight': 0.02,\n            'feature_preprocessor': <autosklearn.pipeline.components.feature_preprocessing.FeaturePreprocessorChoice object at 0x7f77450f64f0>,\n            'model_id': 92,\n            'rank': 15,\n            'sklearn_classifier': SVC(C=0.8738698752356133, class_weight='balanced', coef0=-0.8102436573992753,\n    gamma=5.535077388479238, kernel='sigmoid', max_iter=-1.0, random_state=281,\n    tol=0.0005927215508872087)},\n    93: {   'balancing': Balancing(random_state=281, strategy='weighting'),\n            'classifier': <autosklearn.pipeline.components.classification.ClassifierChoice object at 0x7f779da25280>,\n            'cost': 0.13228155339805825,\n            'data_preprocessor': <autosklearn.pipeline.components.data_preprocessing.DataPreprocessorChoice object at 0x7f77918bcdc0>,\n            'ensemble_weight': 0.02,\n            'feature_preprocessor': <autosklearn.pipeline.components.feature_preprocessing.FeaturePreprocessorChoice object at 0x7f7786c52310>,\n            'model_id': 93,\n            'rank': 1,\n            'sklearn_classifier': SVC(C=366.32595018400247, class_weight='balanced', coef0=0.6280063463498617,\n    degree=2, gamma=0.02720794043605594, kernel='poly', max_iter=-1.0,\n    random_state=281, tol=0.007810741479139206)},\n    97: {   'balancing': Balancing(random_state=281),\n            'classifier': <autosklearn.pipeline.components.classification.ClassifierChoice object at 0x7f77869a9880>,\n            'cost': 0.14745145631067957,\n            'data_preprocessor': <autosklearn.pipeline.components.data_preprocessing.DataPreprocessorChoice object at 0x7f774bbf8220>,\n            'ensemble_weight': 0.02,\n            'feature_preprocessor': <autosklearn.pipeline.components.feature_preprocessing.FeaturePreprocessorChoice object at 0x7f778715cfd0>,\n            'model_id': 97,\n            'rank': 6,\n            'sklearn_classifier': SVC(C=640.0058467178541, coef0=0.9367625628116716, degree=2,\n    gamma=0.3304066335922733, kernel='poly', max_iter=-1.0, random_state=281,\n    tol=0.007136270682209768)},\n    100: {   'balancing': Balancing(random_state=281),\n             'classifier': <autosklearn.pipeline.components.classification.ClassifierChoice object at 0x7f77922b19d0>,\n             'cost': 0.19902912621359226,\n             'data_preprocessor': <autosklearn.pipeline.components.data_preprocessing.DataPreprocessorChoice object at 0x7f778c907af0>,\n             'ensemble_weight': 0.02,\n             'feature_preprocessor': <autosklearn.pipeline.components.feature_preprocessing.FeaturePreprocessorChoice object at 0x7f779212e430>,\n             'model_id': 100,\n             'rank': 14,\n             'sklearn_classifier': SVC(C=182.01402418131215, coef0=0.9894561014529422, degree=2,\n    gamma=0.7552363700690408, kernel='poly', max_iter=-1.0, random_state=281,\n    tol=0.006574879862803059)},\n    102: {   'balancing': Balancing(random_state=281),\n             'classifier': <autosklearn.pipeline.components.classification.ClassifierChoice object at 0x7f778dd104c0>,\n             'cost': 0.195995145631068,\n             'data_preprocessor': <autosklearn.pipeline.components.data_preprocessing.DataPreprocessorChoice object at 0x7f778e815df0>,\n             'ensemble_weight': 0.02,\n             'feature_preprocessor': <autosklearn.pipeline.components.feature_preprocessing.FeaturePreprocessorChoice object at 0x7f778d47b340>,\n             'model_id': 102,\n             'rank': 13,\n             'sklearn_classifier': SVC(C=946.0917453684749, coef0=0.8635726262725292, degree=2,\n    gamma=0.009838930564608085, kernel='poly', max_iter=-1.0, random_state=281,\n    tol=0.004118629777007014)},\n    106: {   'balancing': Balancing(random_state=281),\n             'classifier': <autosklearn.pipeline.components.classification.ClassifierChoice object at 0x7f77876fb760>,\n             'cost': 0.15109223300970875,\n             'data_preprocessor': <autosklearn.pipeline.components.data_preprocessing.DataPreprocessorChoice object at 0x7f77869d2700>,\n             'ensemble_weight': 0.06,\n             'feature_preprocessor': <autosklearn.pipeline.components.feature_preprocessing.FeaturePreprocessorChoice object at 0x7f77876fbe80>,\n             'model_id': 106,\n             'rank': 7,\n             'sklearn_classifier': SVC(C=454.6368100249059, coef0=0.6800910711509687, degree=2,\n    gamma=0.19946671588505915, kernel='poly', max_iter=-1.0, random_state=281,\n    tol=0.05643613029420261)},\n    108: {   'balancing': Balancing(random_state=281),\n             'classifier': <autosklearn.pipeline.components.classification.ClassifierChoice object at 0x7f7791c5ad00>,\n             'cost': 0.18264563106796117,\n             'data_preprocessor': <autosklearn.pipeline.components.data_preprocessing.DataPreprocessorChoice object at 0x7f7794af2c70>,\n             'ensemble_weight': 0.02,\n             'feature_preprocessor': <autosklearn.pipeline.components.feature_preprocessing.FeaturePreprocessorChoice object at 0x7f778d2807c0>,\n             'model_id': 108,\n             'rank': 12,\n             'sklearn_classifier': SVC(C=311.4779083403542, coef0=0.6223336078229351, degree=2,\n    gamma=0.6893621913689779, kernel='poly', max_iter=-1.0, random_state=281,\n    tol=0.007136270682209768)},\n    119: {   'balancing': Balancing(random_state=281, strategy='weighting'),\n             'classifier': <autosklearn.pipeline.components.classification.ClassifierChoice object at 0x7f77444bd610>,\n             'cost': 0.2372572815533981,\n             'data_preprocessor': <autosklearn.pipeline.components.data_preprocessing.DataPreprocessorChoice object at 0x7f7791aae550>,\n             'ensemble_weight': 0.1,\n             'feature_preprocessor': <autosklearn.pipeline.components.feature_preprocessing.FeaturePreprocessorChoice object at 0x7f77444bde80>,\n             'model_id': 119,\n             'rank': 16,\n             'sklearn_classifier': ExtraTreesClassifier(bootstrap=True, criterion='entropy', max_features=27,\n                     min_samples_leaf=6, min_samples_split=5, n_estimators=512,\n                     n_jobs=1, random_state=281, warm_start=True)},\n    128: {   'balancing': Balancing(random_state=281),\n             'classifier': <autosklearn.pipeline.components.classification.ClassifierChoice object at 0x7f7786a3cd90>,\n             'cost': 0.14077669902912626,\n             'data_preprocessor': <autosklearn.pipeline.components.data_preprocessing.DataPreprocessorChoice object at 0x7f779d9ff2e0>,\n             'ensemble_weight': 0.02,\n             'feature_preprocessor': <autosklearn.pipeline.components.feature_preprocessing.FeaturePreprocessorChoice object at 0x7f7786a3c370>,\n             'model_id': 128,\n             'rank': 3,\n             'sklearn_classifier': SVC(C=514.948734982669, coef0=0.9352456505380535, degree=2,\n    gamma=0.6893621913689779, kernel='poly', max_iter=-1.0, random_state=281,\n    shrinking=False, tol=0.013676455835172572)},\n    139: {   'balancing': Balancing(random_state=281),\n             'classifier': <autosklearn.pipeline.components.classification.ClassifierChoice object at 0x7f77871508e0>,\n             'cost': 0.14502427184466016,\n             'data_preprocessor': <autosklearn.pipeline.components.data_preprocessing.DataPreprocessorChoice object at 0x7f778e607250>,\n             'ensemble_weight': 0.02,\n             'feature_preprocessor': <autosklearn.pipeline.components.feature_preprocessing.FeaturePreprocessorChoice object at 0x7f7787150b20>,\n             'model_id': 139,\n             'rank': 5,\n             'sklearn_classifier': SVC(C=456.87477834203753, coef0=0.8126418272849245, degree=2,\n    gamma=0.6893621913689779, kernel='poly', max_iter=-1.0, random_state=281,\n    shrinking=False, tol=0.005683975446764709)}}\n"
        }
      ],
      "execution_count": 6,
      "metadata": {
        "jupyter": {
          "source_hidden": false,
          "outputs_hidden": false
        },
        "nteract": {
          "transient": {
            "deleting": false
          }
        }
      }
    },
    {
      "cell_type": "markdown",
      "source": [
        "Out of curiosity, we also tried the experimental auto-sklearn version 2 which touts to be more accurate by utilizing meta learning. However the top approach from this automated machine learning process is less accurate than the ensemble generated by the version 1 of the package. Interestingly, version two produces a different mix of classifieres like multilayer perceptrons and gradient boosting methods, which should generally be more performant than something like KNN."
      ],
      "metadata": {
        "nteract": {
          "transient": {
            "deleting": false
          }
        }
      }
    },
    {
      "cell_type": "code",
      "source": [
        "automl2 = AutoSklearn2Classifier(n_jobs=-1,memory_limit=None, seed=281)\n",
        "automl2.fit(train_learned_features, train_labels_arr)\n",
        "\n",
        "test_preds_arr2 = automl2.predict(test_learned_features)"
      ],
      "outputs": [],
      "execution_count": null,
      "metadata": {
        "jupyter": {
          "source_hidden": false,
          "outputs_hidden": false
        },
        "nteract": {
          "transient": {
            "deleting": false
          }
        }
      }
    },
    {
      "cell_type": "code",
      "source": [
        "print(\"Ensemble accuracy score (AutoML 2.0) \\n\", sklearn.metrics.accuracy_score(test_labels_arr, test_preds_arr2))\n",
        "print(automl2.leaderboard())"
      ],
      "outputs": [
        {
          "output_type": "stream",
          "name": "stdout",
          "text": "Ensemble accuracy score (AutoML 2.0) \n 0.8381410256410257\n          rank  ensemble_weight               type      cost     duration\nmodel_id                                                                 \n23           1             0.02                mlp  0.209335    97.039469\n39           2             0.02                mlp  0.255008    77.509783\n49           3             0.02                mlp  0.260016    79.052327\n40           4             0.02                mlp  0.261819    56.425754\n30           5             0.02                mlp  0.262620    61.239457\n38           6             0.02                mlp  0.273438   119.480307\n41           7             0.02                mlp  0.274639    33.196541\n4            8             0.02  gradient_boosting  0.277644  1799.048124\n6            9             0.02  gradient_boosting  0.300280   558.060165\n24          10             0.02  gradient_boosting  0.304687  1598.268912\n31          11             0.02      random_forest  0.376002  1291.075818\n53          12             0.02        extra_trees  0.579928    15.022640\n46          13             0.76                sgd  0.759014   105.839597\n"
        }
      ],
      "execution_count": 13,
      "metadata": {
        "jupyter": {
          "source_hidden": false,
          "outputs_hidden": false
        },
        "nteract": {
          "transient": {
            "deleting": false
          }
        }
      }
    }
  ],
  "metadata": {
    "kernelspec": {
      "name": "python38-azureml-pt-tf",
      "language": "python",
      "display_name": "Python 3.8 - Pytorch and Tensorflow"
    },
    "language_info": {
      "name": "python",
      "version": "3.8.5",
      "mimetype": "text/x-python",
      "codemirror_mode": {
        "name": "ipython",
        "version": 3
      },
      "pygments_lexer": "ipython3",
      "nbconvert_exporter": "python",
      "file_extension": ".py"
    },
    "kernel_info": {
      "name": "python38-azureml-pt-tf"
    },
    "nteract": {
      "version": "nteract-front-end@1.0.0"
    }
  },
  "nbformat": 4,
  "nbformat_minor": 0
}