{
 "cells": [
  {
   "cell_type": "code",
   "execution_count": 1,
   "outputs": [],
   "source": [
    "import os\n",
    "import re\n",
    "from collections import defaultdict\n",
    "import math\n",
    "import random\n",
    "import pandas as pd\n",
    "import numpy as np\n",
    "\n",
    "import torch\n",
    "import matplotlib.pyplot as plt\n",
    "from torch.utils.data import Dataset, DataLoader\n",
    "import torchvision.transforms.functional as F\n",
    "from torchvision.io import read_image"
   ],
   "metadata": {
    "collapsed": false,
    "pycharm": {
     "name": "#%%\n"
    }
   }
  },
  {
   "cell_type": "code",
   "execution_count": 2,
   "outputs": [],
   "source": [
    "seed = 281\n",
    "\n",
    "torch.manual_seed(seed)\n",
    "torch.cuda.manual_seed(seed)\n",
    "torch.cuda.manual_seed_all(seed)\n",
    "np.random.seed(seed)\n",
    "random.seed(seed)\n",
    "torch.backends.cudnn.benchmark = False\n",
    "torch.backends.cudnn.deterministic = True"
   ],
   "metadata": {
    "collapsed": false,
    "pycharm": {
     "name": "#%%\n"
    }
   }
  },
  {
   "cell_type": "code",
   "execution_count": 3,
   "outputs": [],
   "source": [
    "class MavocDataset(Dataset):\n",
    "    \"\"\"MAVOC dataset containing pairs of EO + SAR images\"\"\"\n",
    "\n",
    "    def __init__(self, root_dir, eo_transform=None, sar_transform=None, composite_transform=None):\n",
    "        \"\"\"\n",
    "        Constructs a dataframe reference to each sample pair and label in the MAVOC \"training\" dataset\n",
    "        :param root_dir (string): path to the folder containing the class folders\n",
    "        :param transform (callable, optional): transforms to be applied on paired EO + SAR samples\n",
    "        \"\"\"\n",
    "\n",
    "        self.root_dir = root_dir\n",
    "        self.img_pairs = defaultdict(lambda: dict)\n",
    "\n",
    "        self.eo_transform = eo_transform\n",
    "        self.sar_transform = sar_transform\n",
    "        self.composite_transform = composite_transform\n",
    "\n",
    "        eo_prefix = \"EO\" # case sensitive!\n",
    "        sar_prefix = \"SAR\"\n",
    "        class_folders = os.listdir(self.root_dir)\n",
    "        if '.DS_Store' in class_folders: class_folders.remove('.DS_Store') # for macOS\n",
    "\n",
    "        # populate a dictionary with image_id number, the eo and sar file path, and class label\n",
    "        for class_dir in class_folders:\n",
    "            for file in os.listdir(os.path.join(self.root_dir, class_dir)):\n",
    "\n",
    "                id = int(re.findall(\"\\d+\", file)[0]) # grab the integer (image_id) in filename and use as key\n",
    "                label = int(class_dir)\n",
    "                img_path = os.path.join(self.root_dir,class_dir, file)\n",
    "\n",
    "                if id in self.img_pairs.keys():\n",
    "                    if file.startswith(eo_prefix):\n",
    "                        self.img_pairs[id].update({\"eo_img\": img_path})\n",
    "                    if file.startswith(sar_prefix):\n",
    "                        self.img_pairs[id].update({\"sar_img\": img_path})\n",
    "                else:\n",
    "                    if file.startswith(eo_prefix):\n",
    "                        self.img_pairs[id] = {\"eo_img\": img_path, \"sar_img\":None, \"label\":label}\n",
    "                    if file.startswith(sar_prefix):\n",
    "                        self.img_pairs[id] = {\"eo_img\": None,\"sar_img\": img_path, \"label\":label}\n",
    "\n",
    "        # convert the dict to a dataframe so that we can properly index into the dataset with __getitem__\n",
    "        self.img_labels_df = pd.DataFrame.from_dict(self.img_pairs, orient='index')\n",
    "        self.img_labels_df.reset_index(inplace=True)\n",
    "        self.img_labels_df = self.img_labels_df.rename(columns = {'index':'image_id'})\n",
    "\n",
    "    def __getitem__(self, idx):\n",
    "        df = self.img_labels_df\n",
    "        eo_img_path = df.loc[df.index[idx], \"eo_img\"]\n",
    "        sar_img_path = df.loc[df.index[idx], \"sar_img\"]\n",
    "\n",
    "        eo_image = read_image(eo_img_path) # reads jpeg or png into a 3d RGB or grayscale tensor (uint8 in [0,255])\n",
    "        sar_image = read_image(sar_img_path)\n",
    "        # composite_image = None\n",
    "\n",
    "        # resize EO to 31x31\n",
    "        eo_image = F.resize(eo_image, (31, 31))\n",
    "        # resize SAR to 55x55 (slightly vary in size)\n",
    "        sar_image = F.resize(sar_image, (55, 55))\n",
    "\n",
    "        if self.eo_transform:\n",
    "            eo_image = self.eo_transform(eo_image)\n",
    "        if self.sar_transform:\n",
    "            sar_image = self.sar_transform(sar_image)\n",
    "\n",
    "        # TODO: add composite_image to return statement\n",
    "        # if self.composite_transform:\n",
    "        #     composite_image = self.composite_transform(eo_image, sar_image)\n",
    "\n",
    "        label = df.loc[df.index[idx], \"label\"]\n",
    "\n",
    "        return eo_image, sar_image, label\n",
    "\n",
    "    def __len__(self):\n",
    "        return len(self.img_labels_df.index)"
   ],
   "metadata": {
    "collapsed": false,
    "pycharm": {
     "name": "#%%\n"
    }
   }
  },
  {
   "cell_type": "code",
   "execution_count": 4,
   "outputs": [],
   "source": [
    "dataset = MavocDataset(root_dir=\"data/train\", eo_transform=None, sar_transform=None)"
   ],
   "metadata": {
    "collapsed": false,
    "pycharm": {
     "name": "#%%\n"
    }
   }
  },
  {
   "cell_type": "code",
   "execution_count": 5,
   "outputs": [],
   "source": [
    "eo_feature, sar_feature, sample_label = dataset[0]"
   ],
   "metadata": {
    "collapsed": false,
    "pycharm": {
     "name": "#%%\n"
    }
   }
  },
  {
   "cell_type": "code",
   "execution_count": 6,
   "outputs": [
    {
     "name": "stdout",
     "output_type": "stream",
     "text": [
      "torch.Size([1, 31, 31])\n"
     ]
    },
    {
     "data": {
      "text/plain": "<matplotlib.image.AxesImage at 0x7fc332353a10>"
     },
     "execution_count": 6,
     "metadata": {},
     "output_type": "execute_result"
    },
    {
     "data": {
      "text/plain": "<Figure size 432x288 with 1 Axes>",
      "image/png": "[encoded data removed]"
     },
     "metadata": {
      "needs_background": "light"
     },
     "output_type": "display_data"
    }
   ],
   "source": [
    "print(eo_feature.shape)\n",
    "plt.imshow(eo_feature.permute(1, 2, 0), cmap=\"gray\") # torch tensor's first dim is the channel dim. So need to reshape it for plotting"
   ],
   "metadata": {
    "collapsed": false,
    "pycharm": {
     "name": "#%%\n"
    }
   }
  },
  {
   "cell_type": "code",
   "execution_count": 7,
   "outputs": [
    {
     "data": {
      "text/plain": "<matplotlib.image.AxesImage at 0x7fc335de32d0>"
     },
     "execution_count": 7,
     "metadata": {},
     "output_type": "execute_result"
    },
    {
     "data": {
      "text/plain": "<Figure size 432x288 with 1 Axes>",
      "image/png": "[encoded data removed]"
     },
     "metadata": {
      "needs_background": "light"
     },
     "output_type": "display_data"
    }
   ],
   "source": [
    "plt.imshow(sar_feature.permute(1, 2, 0), cmap=\"gray\")"
   ],
   "metadata": {
    "collapsed": false,
    "pycharm": {
     "name": "#%%\n"
    }
   }
  },
  {
   "cell_type": "code",
   "execution_count": 8,
   "outputs": [
    {
     "name": "stdout",
     "output_type": "stream",
     "text": [
      "Example with batch size:4\n",
      "EO Features:\n",
      "tensor([[[[ 88, 100, 107,  ...,  18,  18,  15],\n",
      "          [ 94, 106, 106,  ...,  16,  16,  16],\n",
      "          [105, 114, 108,  ...,  16,  16,  16],\n",
      "          ...,\n",
      "          [142, 141, 142,  ...,  56,  57,  55],\n",
      "          [145, 142, 139,  ...,  56,  55,  56],\n",
      "          [146, 143, 139,  ...,  57,  57,  58]]],\n",
      "\n",
      "\n",
      "        [[[ 45,  46,  47,  ...,  68,  68,  68],\n",
      "          [ 46,  48,  48,  ...,  69,  69,  69],\n",
      "          [ 48,  49,  49,  ...,  70,  69,  69],\n",
      "          ...,\n",
      "          [ 77,  81,  87,  ...,  70,  70,  70],\n",
      "          [ 88,  90,  90,  ...,  70,  70,  70],\n",
      "          [ 97,  90,  84,  ...,  70,  70,  69]]],\n",
      "\n",
      "\n",
      "        [[[ 20,  23,  28,  ...,  78,  88,  89],\n",
      "          [ 28,  31,  35,  ...,  82,  86,  83],\n",
      "          [ 34,  36,  40,  ...,  70,  64,  63],\n",
      "          ...,\n",
      "          [ 77,  77,  76,  ...,  46,  46,  46],\n",
      "          [ 75,  75,  75,  ...,  42,  45,  45],\n",
      "          [ 75,  74,  74,  ...,  42,  45,  46]]],\n",
      "\n",
      "\n",
      "        [[[ 90,  91,  90,  ...,  63,  64,  64],\n",
      "          [ 71,  73,  73,  ...,  62,  63,  64],\n",
      "          [ 43,  44,  46,  ...,  63,  63,  63],\n",
      "          ...,\n",
      "          [ 38,  37,  35,  ...,  64,  64,  64],\n",
      "          [ 37,  34,  33,  ...,  64,  64,  65],\n",
      "          [ 54,  51,  49,  ...,  64,  64,  64]]]], dtype=torch.uint8) \n",
      ", SAR Features:\n",
      "tensor([[[[137, 130, 126,  ..., 140, 154, 131],\n",
      "          [125, 119, 122,  ..., 147, 137, 134],\n",
      "          [112,  98,  99,  ..., 153, 118, 143],\n",
      "          ...,\n",
      "          [ 43,  37,  55,  ..., 167, 155, 133],\n",
      "          [ 44,  50,  69,  ..., 154, 147, 130],\n",
      "          [ 77,  56,  42,  ..., 143, 144, 153]]],\n",
      "\n",
      "\n",
      "        [[[116, 115, 106,  ...,  76,  52,  42],\n",
      "          [105, 124, 109,  ...,  55,  36,  24],\n",
      "          [102, 104,  98,  ...,  54,  38,  21],\n",
      "          ...,\n",
      "          [180, 178, 166,  ..., 112, 105,  62],\n",
      "          [147, 165, 165,  ..., 113, 114,  77],\n",
      "          [102, 134, 167,  ...,  75,  76,  73]]],\n",
      "\n",
      "\n",
      "        [[[101,  98, 100,  ..., 110,  91,  86],\n",
      "          [117, 104,  87,  ..., 142,  89,  89],\n",
      "          [112, 113, 106,  ..., 130, 101, 110],\n",
      "          ...,\n",
      "          [ 59,  74, 105,  ...,  88,  40,  63],\n",
      "          [ 68,  84, 115,  ...,  89,  51,  84],\n",
      "          [ 72, 107, 131,  ..., 107,  76,  57]]],\n",
      "\n",
      "\n",
      "        [[[ 95, 110, 113,  ..., 108,  94,  76],\n",
      "          [111, 112,  79,  ..., 102, 105,  95],\n",
      "          [ 96, 106, 114,  ..., 105, 114, 111],\n",
      "          ...,\n",
      "          [ 82,  94,  78,  ..., 126, 125, 112],\n",
      "          [ 53,  70,  80,  ..., 112, 126, 111],\n",
      "          [ 50,  64, 103,  ...,  98, 116, 105]]]], dtype=torch.uint8) \n",
      ", Labels:\n",
      "tensor([0, 0, 0, 1])\n"
     ]
    }
   ],
   "source": [
    "batch_size = 4\n",
    "dataloader = DataLoader(dataset=dataset, batch_size=batch_size, shuffle=True, num_workers=0)\n",
    "\n",
    "# checking sample by sample\n",
    "dataiter = iter(dataloader)\n",
    "data = dataiter.next()\n",
    "eo_feats, sar_feats, labels = data\n",
    "\n",
    "print(f\"Example with batch size:{batch_size}\")\n",
    "print(f\"EO Features:\\n{eo_feats} \\n, SAR Features:\\n{sar_feats} \\n, Labels:\\n{labels}\")"
   ],
   "metadata": {
    "collapsed": false,
    "pycharm": {
     "name": "#%%\n"
    }
   }
  },
  {
   "cell_type": "code",
   "execution_count": 9,
   "outputs": [
    {
     "name": "stdout",
     "output_type": "stream",
     "text": [
      "293772 73443\n",
      "Epoch: 1/2, Step 5/73443| EO Inputs torch.Size([4, 1, 31, 31]) | SAR Inputs torch.Size([4, 1, 55, 55])| Labels torch.Size([4])\n",
      "Epoch: 1/2, Step 10/73443| EO Inputs torch.Size([4, 1, 31, 31]) | SAR Inputs torch.Size([4, 1, 55, 55])| Labels torch.Size([4])\n",
      "Epoch: 1/2, Step 15/73443| EO Inputs torch.Size([4, 1, 31, 31]) | SAR Inputs torch.Size([4, 1, 55, 55])| Labels torch.Size([4])\n",
      "Epoch: 1/2, Step 20/73443| EO Inputs torch.Size([4, 1, 31, 31]) | SAR Inputs torch.Size([4, 1, 55, 55])| Labels torch.Size([4])\n",
      "Epoch: 1/2, Step 25/73443| EO Inputs torch.Size([4, 1, 31, 31]) | SAR Inputs torch.Size([4, 1, 55, 55])| Labels torch.Size([4])\n",
      "Epoch: 1/2, Step 30/73443| EO Inputs torch.Size([4, 1, 31, 31]) | SAR Inputs torch.Size([4, 1, 55, 55])| Labels torch.Size([4])\n",
      "Epoch: 1/2, Step 35/73443| EO Inputs torch.Size([4, 1, 31, 31]) | SAR Inputs torch.Size([4, 1, 55, 55])| Labels torch.Size([4])\n",
      "Epoch: 1/2, Step 40/73443| EO Inputs torch.Size([4, 1, 31, 31]) | SAR Inputs torch.Size([4, 1, 55, 55])| Labels torch.Size([4])\n",
      "Epoch: 1/2, Step 45/73443| EO Inputs torch.Size([4, 1, 31, 31]) | SAR Inputs torch.Size([4, 1, 55, 55])| Labels torch.Size([4])\n",
      "Epoch: 1/2, Step 50/73443| EO Inputs torch.Size([4, 1, 31, 31]) | SAR Inputs torch.Size([4, 1, 55, 55])| Labels torch.Size([4])\n",
      "Epoch: 1/2, Step 55/73443| EO Inputs torch.Size([4, 1, 31, 31]) | SAR Inputs torch.Size([4, 1, 55, 55])| Labels torch.Size([4])\n"
     ]
    },
    {
     "ename": "KeyboardInterrupt",
     "evalue": "",
     "output_type": "error",
     "traceback": [
      "\u001B[0;31m---------------------------------------------------------------------------\u001B[0m",
      "\u001B[0;31mKeyboardInterrupt\u001B[0m                         Traceback (most recent call last)",
      "\u001B[0;32m<ipython-input-9-040564ba6689>\u001B[0m in \u001B[0;36m<module>\u001B[0;34m\u001B[0m\n\u001B[1;32m      5\u001B[0m \u001B[0mprint\u001B[0m\u001B[0;34m(\u001B[0m\u001B[0mtotal_samples\u001B[0m\u001B[0;34m,\u001B[0m \u001B[0mn_iterations\u001B[0m\u001B[0;34m)\u001B[0m\u001B[0;34m\u001B[0m\u001B[0;34m\u001B[0m\u001B[0m\n\u001B[1;32m      6\u001B[0m \u001B[0;32mfor\u001B[0m \u001B[0mepoch\u001B[0m \u001B[0;32min\u001B[0m \u001B[0mrange\u001B[0m\u001B[0;34m(\u001B[0m\u001B[0mnum_epochs\u001B[0m\u001B[0;34m)\u001B[0m\u001B[0;34m:\u001B[0m\u001B[0;34m\u001B[0m\u001B[0;34m\u001B[0m\u001B[0m\n\u001B[0;32m----> 7\u001B[0;31m     \u001B[0;32mfor\u001B[0m \u001B[0mi\u001B[0m\u001B[0;34m,\u001B[0m \u001B[0;34m(\u001B[0m\u001B[0meo_input\u001B[0m\u001B[0;34m,\u001B[0m \u001B[0msar_input\u001B[0m\u001B[0;34m,\u001B[0m \u001B[0mlabels\u001B[0m\u001B[0;34m)\u001B[0m \u001B[0;32min\u001B[0m \u001B[0menumerate\u001B[0m\u001B[0;34m(\u001B[0m\u001B[0mdataloader\u001B[0m\u001B[0;34m)\u001B[0m\u001B[0;34m:\u001B[0m\u001B[0;34m\u001B[0m\u001B[0;34m\u001B[0m\u001B[0m\n\u001B[0m\u001B[1;32m      8\u001B[0m \u001B[0;34m\u001B[0m\u001B[0m\n\u001B[1;32m      9\u001B[0m         \u001B[0;31m# Run your training process\u001B[0m\u001B[0;34m\u001B[0m\u001B[0;34m\u001B[0m\u001B[0;34m\u001B[0m\u001B[0m\n",
      "\u001B[0;32m~/my_env/lib/python3.7/site-packages/torch/utils/data/dataloader.py\u001B[0m in \u001B[0;36m__next__\u001B[0;34m(self)\u001B[0m\n\u001B[1;32m    519\u001B[0m             \u001B[0;32mif\u001B[0m \u001B[0mself\u001B[0m\u001B[0;34m.\u001B[0m\u001B[0m_sampler_iter\u001B[0m \u001B[0;32mis\u001B[0m \u001B[0;32mNone\u001B[0m\u001B[0;34m:\u001B[0m\u001B[0;34m\u001B[0m\u001B[0;34m\u001B[0m\u001B[0m\n\u001B[1;32m    520\u001B[0m                 \u001B[0mself\u001B[0m\u001B[0;34m.\u001B[0m\u001B[0m_reset\u001B[0m\u001B[0;34m(\u001B[0m\u001B[0;34m)\u001B[0m\u001B[0;34m\u001B[0m\u001B[0;34m\u001B[0m\u001B[0m\n\u001B[0;32m--> 521\u001B[0;31m             \u001B[0mdata\u001B[0m \u001B[0;34m=\u001B[0m \u001B[0mself\u001B[0m\u001B[0;34m.\u001B[0m\u001B[0m_next_data\u001B[0m\u001B[0;34m(\u001B[0m\u001B[0;34m)\u001B[0m\u001B[0;34m\u001B[0m\u001B[0;34m\u001B[0m\u001B[0m\n\u001B[0m\u001B[1;32m    522\u001B[0m             \u001B[0mself\u001B[0m\u001B[0;34m.\u001B[0m\u001B[0m_num_yielded\u001B[0m \u001B[0;34m+=\u001B[0m \u001B[0;36m1\u001B[0m\u001B[0;34m\u001B[0m\u001B[0;34m\u001B[0m\u001B[0m\n\u001B[1;32m    523\u001B[0m             \u001B[0;32mif\u001B[0m \u001B[0mself\u001B[0m\u001B[0;34m.\u001B[0m\u001B[0m_dataset_kind\u001B[0m \u001B[0;34m==\u001B[0m \u001B[0m_DatasetKind\u001B[0m\u001B[0;34m.\u001B[0m\u001B[0mIterable\u001B[0m \u001B[0;32mand\u001B[0m\u001B[0;31m \u001B[0m\u001B[0;31m\\\u001B[0m\u001B[0;34m\u001B[0m\u001B[0;34m\u001B[0m\u001B[0m\n",
      "\u001B[0;32m~/my_env/lib/python3.7/site-packages/torch/utils/data/dataloader.py\u001B[0m in \u001B[0;36m_next_data\u001B[0;34m(self)\u001B[0m\n\u001B[1;32m    559\u001B[0m     \u001B[0;32mdef\u001B[0m \u001B[0m_next_data\u001B[0m\u001B[0;34m(\u001B[0m\u001B[0mself\u001B[0m\u001B[0;34m)\u001B[0m\u001B[0;34m:\u001B[0m\u001B[0;34m\u001B[0m\u001B[0;34m\u001B[0m\u001B[0m\n\u001B[1;32m    560\u001B[0m         \u001B[0mindex\u001B[0m \u001B[0;34m=\u001B[0m \u001B[0mself\u001B[0m\u001B[0;34m.\u001B[0m\u001B[0m_next_index\u001B[0m\u001B[0;34m(\u001B[0m\u001B[0;34m)\u001B[0m  \u001B[0;31m# may raise StopIteration\u001B[0m\u001B[0;34m\u001B[0m\u001B[0;34m\u001B[0m\u001B[0m\n\u001B[0;32m--> 561\u001B[0;31m         \u001B[0mdata\u001B[0m \u001B[0;34m=\u001B[0m \u001B[0mself\u001B[0m\u001B[0;34m.\u001B[0m\u001B[0m_dataset_fetcher\u001B[0m\u001B[0;34m.\u001B[0m\u001B[0mfetch\u001B[0m\u001B[0;34m(\u001B[0m\u001B[0mindex\u001B[0m\u001B[0;34m)\u001B[0m  \u001B[0;31m# may raise StopIteration\u001B[0m\u001B[0;34m\u001B[0m\u001B[0;34m\u001B[0m\u001B[0m\n\u001B[0m\u001B[1;32m    562\u001B[0m         \u001B[0;32mif\u001B[0m \u001B[0mself\u001B[0m\u001B[0;34m.\u001B[0m\u001B[0m_pin_memory\u001B[0m\u001B[0;34m:\u001B[0m\u001B[0;34m\u001B[0m\u001B[0;34m\u001B[0m\u001B[0m\n\u001B[1;32m    563\u001B[0m             \u001B[0mdata\u001B[0m \u001B[0;34m=\u001B[0m \u001B[0m_utils\u001B[0m\u001B[0;34m.\u001B[0m\u001B[0mpin_memory\u001B[0m\u001B[0;34m.\u001B[0m\u001B[0mpin_memory\u001B[0m\u001B[0;34m(\u001B[0m\u001B[0mdata\u001B[0m\u001B[0;34m)\u001B[0m\u001B[0;34m\u001B[0m\u001B[0;34m\u001B[0m\u001B[0m\n",
      "\u001B[0;32m~/my_env/lib/python3.7/site-packages/torch/utils/data/_utils/fetch.py\u001B[0m in \u001B[0;36mfetch\u001B[0;34m(self, possibly_batched_index)\u001B[0m\n\u001B[1;32m     42\u001B[0m     \u001B[0;32mdef\u001B[0m \u001B[0mfetch\u001B[0m\u001B[0;34m(\u001B[0m\u001B[0mself\u001B[0m\u001B[0;34m,\u001B[0m \u001B[0mpossibly_batched_index\u001B[0m\u001B[0;34m)\u001B[0m\u001B[0;34m:\u001B[0m\u001B[0;34m\u001B[0m\u001B[0;34m\u001B[0m\u001B[0m\n\u001B[1;32m     43\u001B[0m         \u001B[0;32mif\u001B[0m \u001B[0mself\u001B[0m\u001B[0;34m.\u001B[0m\u001B[0mauto_collation\u001B[0m\u001B[0;34m:\u001B[0m\u001B[0;34m\u001B[0m\u001B[0;34m\u001B[0m\u001B[0m\n\u001B[0;32m---> 44\u001B[0;31m             \u001B[0mdata\u001B[0m \u001B[0;34m=\u001B[0m \u001B[0;34m[\u001B[0m\u001B[0mself\u001B[0m\u001B[0;34m.\u001B[0m\u001B[0mdataset\u001B[0m\u001B[0;34m[\u001B[0m\u001B[0midx\u001B[0m\u001B[0;34m]\u001B[0m \u001B[0;32mfor\u001B[0m \u001B[0midx\u001B[0m \u001B[0;32min\u001B[0m \u001B[0mpossibly_batched_index\u001B[0m\u001B[0;34m]\u001B[0m\u001B[0;34m\u001B[0m\u001B[0;34m\u001B[0m\u001B[0m\n\u001B[0m\u001B[1;32m     45\u001B[0m         \u001B[0;32melse\u001B[0m\u001B[0;34m:\u001B[0m\u001B[0;34m\u001B[0m\u001B[0;34m\u001B[0m\u001B[0m\n\u001B[1;32m     46\u001B[0m             \u001B[0mdata\u001B[0m \u001B[0;34m=\u001B[0m \u001B[0mself\u001B[0m\u001B[0;34m.\u001B[0m\u001B[0mdataset\u001B[0m\u001B[0;34m[\u001B[0m\u001B[0mpossibly_batched_index\u001B[0m\u001B[0;34m]\u001B[0m\u001B[0;34m\u001B[0m\u001B[0;34m\u001B[0m\u001B[0m\n",
      "\u001B[0;32m~/my_env/lib/python3.7/site-packages/torch/utils/data/_utils/fetch.py\u001B[0m in \u001B[0;36m<listcomp>\u001B[0;34m(.0)\u001B[0m\n\u001B[1;32m     42\u001B[0m     \u001B[0;32mdef\u001B[0m \u001B[0mfetch\u001B[0m\u001B[0;34m(\u001B[0m\u001B[0mself\u001B[0m\u001B[0;34m,\u001B[0m \u001B[0mpossibly_batched_index\u001B[0m\u001B[0;34m)\u001B[0m\u001B[0;34m:\u001B[0m\u001B[0;34m\u001B[0m\u001B[0;34m\u001B[0m\u001B[0m\n\u001B[1;32m     43\u001B[0m         \u001B[0;32mif\u001B[0m \u001B[0mself\u001B[0m\u001B[0;34m.\u001B[0m\u001B[0mauto_collation\u001B[0m\u001B[0;34m:\u001B[0m\u001B[0;34m\u001B[0m\u001B[0;34m\u001B[0m\u001B[0m\n\u001B[0;32m---> 44\u001B[0;31m             \u001B[0mdata\u001B[0m \u001B[0;34m=\u001B[0m \u001B[0;34m[\u001B[0m\u001B[0mself\u001B[0m\u001B[0;34m.\u001B[0m\u001B[0mdataset\u001B[0m\u001B[0;34m[\u001B[0m\u001B[0midx\u001B[0m\u001B[0;34m]\u001B[0m \u001B[0;32mfor\u001B[0m \u001B[0midx\u001B[0m \u001B[0;32min\u001B[0m \u001B[0mpossibly_batched_index\u001B[0m\u001B[0;34m]\u001B[0m\u001B[0;34m\u001B[0m\u001B[0;34m\u001B[0m\u001B[0m\n\u001B[0m\u001B[1;32m     45\u001B[0m         \u001B[0;32melse\u001B[0m\u001B[0;34m:\u001B[0m\u001B[0;34m\u001B[0m\u001B[0;34m\u001B[0m\u001B[0m\n\u001B[1;32m     46\u001B[0m             \u001B[0mdata\u001B[0m \u001B[0;34m=\u001B[0m \u001B[0mself\u001B[0m\u001B[0;34m.\u001B[0m\u001B[0mdataset\u001B[0m\u001B[0;34m[\u001B[0m\u001B[0mpossibly_batched_index\u001B[0m\u001B[0;34m]\u001B[0m\u001B[0;34m\u001B[0m\u001B[0;34m\u001B[0m\u001B[0m\n",
      "\u001B[0;32m<ipython-input-3-8ad77b91ff7d>\u001B[0m in \u001B[0;36m__getitem__\u001B[0;34m(self, idx)\u001B[0m\n\u001B[1;32m     51\u001B[0m \u001B[0;34m\u001B[0m\u001B[0m\n\u001B[1;32m     52\u001B[0m         \u001B[0meo_image\u001B[0m \u001B[0;34m=\u001B[0m \u001B[0mread_image\u001B[0m\u001B[0;34m(\u001B[0m\u001B[0meo_img_path\u001B[0m\u001B[0;34m)\u001B[0m \u001B[0;31m# reads jpeg or png into a 3d RGB or grayscale tensor (uint8 in [0,255])\u001B[0m\u001B[0;34m\u001B[0m\u001B[0;34m\u001B[0m\u001B[0m\n\u001B[0;32m---> 53\u001B[0;31m         \u001B[0msar_image\u001B[0m \u001B[0;34m=\u001B[0m \u001B[0mread_image\u001B[0m\u001B[0;34m(\u001B[0m\u001B[0msar_img_path\u001B[0m\u001B[0;34m)\u001B[0m\u001B[0;34m\u001B[0m\u001B[0;34m\u001B[0m\u001B[0m\n\u001B[0m\u001B[1;32m     54\u001B[0m         \u001B[0;31m# composite_image = None\u001B[0m\u001B[0;34m\u001B[0m\u001B[0;34m\u001B[0m\u001B[0;34m\u001B[0m\u001B[0m\n\u001B[1;32m     55\u001B[0m \u001B[0;34m\u001B[0m\u001B[0m\n",
      "\u001B[0;32m~/my_env/lib/python3.7/site-packages/torchvision/io/image.py\u001B[0m in \u001B[0;36mread_image\u001B[0;34m(path, mode)\u001B[0m\n\u001B[1;32m    257\u001B[0m         \u001B[0moutput\u001B[0m \u001B[0;34m(\u001B[0m\u001B[0mTensor\u001B[0m\u001B[0;34m[\u001B[0m\u001B[0mimage_channels\u001B[0m\u001B[0;34m,\u001B[0m \u001B[0mimage_height\u001B[0m\u001B[0;34m,\u001B[0m \u001B[0mimage_width\u001B[0m\u001B[0;34m]\u001B[0m\u001B[0;34m)\u001B[0m\u001B[0;34m\u001B[0m\u001B[0;34m\u001B[0m\u001B[0m\n\u001B[1;32m    258\u001B[0m     \"\"\"\n\u001B[0;32m--> 259\u001B[0;31m     \u001B[0mdata\u001B[0m \u001B[0;34m=\u001B[0m \u001B[0mread_file\u001B[0m\u001B[0;34m(\u001B[0m\u001B[0mpath\u001B[0m\u001B[0;34m)\u001B[0m\u001B[0;34m\u001B[0m\u001B[0;34m\u001B[0m\u001B[0m\n\u001B[0m\u001B[1;32m    260\u001B[0m     \u001B[0;32mreturn\u001B[0m \u001B[0mdecode_image\u001B[0m\u001B[0;34m(\u001B[0m\u001B[0mdata\u001B[0m\u001B[0;34m,\u001B[0m \u001B[0mmode\u001B[0m\u001B[0;34m)\u001B[0m\u001B[0;34m\u001B[0m\u001B[0;34m\u001B[0m\u001B[0m\n",
      "\u001B[0;32m~/my_env/lib/python3.7/site-packages/torchvision/io/image.py\u001B[0m in \u001B[0;36mread_file\u001B[0;34m(path)\u001B[0m\n\u001B[1;32m     77\u001B[0m         \u001B[0mdata\u001B[0m \u001B[0;34m(\u001B[0m\u001B[0mTensor\u001B[0m\u001B[0;34m)\u001B[0m\u001B[0;34m\u001B[0m\u001B[0;34m\u001B[0m\u001B[0m\n\u001B[1;32m     78\u001B[0m     \"\"\"\n\u001B[0;32m---> 79\u001B[0;31m     \u001B[0mdata\u001B[0m \u001B[0;34m=\u001B[0m \u001B[0mtorch\u001B[0m\u001B[0;34m.\u001B[0m\u001B[0mops\u001B[0m\u001B[0;34m.\u001B[0m\u001B[0mimage\u001B[0m\u001B[0;34m.\u001B[0m\u001B[0mread_file\u001B[0m\u001B[0;34m(\u001B[0m\u001B[0mpath\u001B[0m\u001B[0;34m)\u001B[0m\u001B[0;34m\u001B[0m\u001B[0;34m\u001B[0m\u001B[0m\n\u001B[0m\u001B[1;32m     80\u001B[0m     \u001B[0;32mreturn\u001B[0m \u001B[0mdata\u001B[0m\u001B[0;34m\u001B[0m\u001B[0;34m\u001B[0m\u001B[0m\n\u001B[1;32m     81\u001B[0m \u001B[0;34m\u001B[0m\u001B[0m\n",
      "\u001B[0;31mKeyboardInterrupt\u001B[0m: "
     ]
    }
   ],
   "source": [
    "# Dummy Training loop\n",
    "num_epochs = 2\n",
    "total_samples = len(dataset)\n",
    "n_iterations = math.ceil(total_samples/4)\n",
    "print(total_samples, n_iterations)\n",
    "for epoch in range(num_epochs):\n",
    "    for i, (eo_input, sar_input, labels) in enumerate(dataloader):\n",
    "\n",
    "        # Run your training process\n",
    "        if (i+1) % 5 == 0:\n",
    "            print(f'Epoch: {epoch+1}/{num_epochs}, Step {i+1}/{n_iterations}| EO Inputs {eo_input.shape} | SAR Inputs {sar_input.shape}| Labels {labels.shape}')"
   ],
   "metadata": {
    "collapsed": false,
    "pycharm": {
     "name": "#%%\n"
    }
   }
  },
  {
   "cell_type": "markdown",
   "source": [
    "Resources:\n",
    "\n",
    "Pytorch dataset & dataloader video tutorial: [https://www.youtube.com/watch?v=c36lUUr864M&t=7813s](https://www.youtube.com/watch?v=c36lUUr864M&t=7813s)\n",
    "\n",
    "Pytorch dataset class documentation: [https://pytorch.org/vision/stable/datasets.html](https://pytorch.org/vision/stable/datasets.html)\n",
    "\n",
    "How to write dataset class for paired images: [https://discuss.pytorch.org/t/how-to-write-the-dataloader-for-pairs-images/43547/2](https://discuss.pytorch.org/t/how-to-write-the-dataloader-for-pairs-images/43547/2)\n",
    "\n",
    "How torchvision read_image() method works: [https://pytorch.org/vision/stable/generated/torchvision.io.read_image.html#torchvision.io.read_image](https://pytorch.org/vision/stable/generated/torchvision.io.read_image.html#torchvision.io.read_image)\n"
   ],
   "metadata": {
    "collapsed": false,
    "pycharm": {
     "name": "#%% md\n"
    }
   }
  },
  {
   "cell_type": "markdown",
   "source": [],
   "metadata": {
    "collapsed": false,
    "pycharm": {
     "name": "#%% md\n"
    }
   }
  }
 ],
 "metadata": {
  "kernelspec": {
   "display_name": "Python 3",
   "language": "python",
   "name": "python3"
  },
  "language_info": {
   "codemirror_mode": {
    "name": "ipython",
    "version": 2
   },
   "file_extension": ".py",
   "mimetype": "text/x-python",
   "name": "python",
   "nbconvert_exporter": "python",
   "pygments_lexer": "ipython2",
   "version": "2.7.6"
  }
 },
 "nbformat": 4,
 "nbformat_minor": 0
}